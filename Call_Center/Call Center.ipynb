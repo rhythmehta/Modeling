{
 "cells": [
  {
   "cell_type": "markdown",
   "metadata": {},
   "source": [
    "# Call center data modeling\n",
    "\n",
    "You are advising a client on the number of call center agents they need to handle their customer support load. We start by modeling the number of phone calls we expect to come into the call center during each hour of the day.\n",
    "\n",
    "You are provided with a data set of the intervals between phone calls arriving during one day. Each value is a time in minutes indicating the amount of time that passed between receiving two consecutive phone calls.\n",
    "\n",
    "## Loading the data"
   ]
  },
  {
   "cell_type": "code",
   "execution_count": 1,
   "metadata": {},
   "outputs": [],
   "source": [
    "#importing libraries\n",
    "import numpy as np\n",
    "import scipy as sp\n",
    "import scipy.stats as sts\n",
    "import matplotlib.pyplot as plt\n",
    "plt.style.use('seaborn-whitegrid')\n",
    "%matplotlib inline"
   ]
  },
  {
   "cell_type": "code",
   "execution_count": 2,
   "metadata": {},
   "outputs": [
    {
     "name": "stdout",
     "output_type": "stream",
     "text": [
      "Size of data set: 5856\n",
      "First 3 values in data set: [30.   3.4  3.2]\n",
      "Sum of data set: 1441.6838153800093\n"
     ]
    }
   ],
   "source": [
    "# Load the data set containing durations between calls arriving at the call\n",
    "# center during 1 day. All values are in minutes.\n",
    "waiting_times_day = np.loadtxt('call_center.csv')\n",
    "\n",
    "# Display some basic information about the data set.\n",
    "print('Size of data set:', len(waiting_times_day))\n",
    "print('First 3 values in data set:', waiting_times_day[:3])\n",
    "print('Sum of data set:', sum(waiting_times_day))"
   ]
  },
  {
   "cell_type": "markdown",
   "metadata": {},
   "source": [
    "Since the values are intervals between calls measured in minutes, this means\n",
    "\n",
    "* we assume the first call happened at 00:00 (midnight),\n",
    "* the second call happened at about 00:30 (30 minutes after midnight),\n",
    "* the third call happened at about 00:33 (30 + 3.4 minutes),\n",
    "* the fourth call happened at about 00:37, etc.\n",
    "\n",
    "When we sum the values, we get about 1440 minutes (1 day)."
   ]
  },
  {
   "cell_type": "markdown",
   "metadata": {},
   "source": [
    "You are told that the number of calls arriving varies quite a lot, depending on which hour of the day it is. The smallest number of calls usually occur around 3am or 4am. Most calls usually come in between 11am and 1pm.\n",
    "\n",
    "## Data pre-processing\n",
    "Since we expect different call rates during different hours, we split the data set into 24 separate series — one for each hour of the day."
   ]
  },
  {
   "cell_type": "code",
   "execution_count": 3,
   "metadata": {},
   "outputs": [
    {
     "name": "stdout",
     "output_type": "stream",
     "text": [
      "00:00-01:00 - 5 calls\n",
      "01:00-02:00 - 4 calls\n",
      "02:00-03:00 - 6 calls\n",
      "03:00-04:00 - 8 calls\n",
      "04:00-05:00 - 26 calls\n",
      "05:00-06:00 - 53 calls\n",
      "06:00-07:00 - 93 calls\n",
      "07:00-08:00 - 173 calls\n",
      "08:00-09:00 - 254 calls\n",
      "09:00-10:00 - 345 calls\n",
      "10:00-11:00 - 496 calls\n",
      "11:00-12:00 - 924 calls\n",
      "12:00-13:00 - 858 calls\n",
      "13:00-14:00 - 382 calls\n",
      "14:00-15:00 - 185 calls\n",
      "15:00-16:00 - 207 calls\n",
      "16:00-17:00 - 263 calls\n",
      "17:00-18:00 - 419 calls\n",
      "18:00-19:00 - 531 calls\n",
      "19:00-20:00 - 400 calls\n",
      "20:00-21:00 - 137 calls\n",
      "21:00-22:00 - 51 calls\n",
      "22:00-23:00 - 20 calls\n",
      "23:00-24:00 - 16 calls\n"
     ]
    }
   ],
   "source": [
    "# Make 24 empty lists, one per hour.\n",
    "waiting_times_per_hour = [[] for _ in range(24)]\n",
    "\n",
    "# Split the data into 24 separate series, one for each hour of the day.\n",
    "current_time = 0\n",
    "for t in waiting_times_day:\n",
    "    current_hour = int(current_time // 60)\n",
    "    current_time += t\n",
    "    waiting_times_per_hour[current_hour].append(t)\n",
    "\n",
    "for hour, calls_in_hour in enumerate(waiting_times_per_hour):\n",
    "    print(f'{hour:02}:00-{hour + 1:02}:00 - {len(calls_in_hour)} calls')"
   ]
  },
  {
   "cell_type": "markdown",
   "metadata": {},
   "source": [
    "## Task 1: Plot the number of calls per hour\n",
    "Use Matplotlib to visualize the number of calls that arrive during each hour of the day, stored in the variable `waiting_times_per_hour`. The call numbers are shown in the output above. You should find an appropriate way to visualize it."
   ]
  },
  {
   "cell_type": "code",
   "execution_count": 4,
   "metadata": {},
   "outputs": [
    {
     "data": {
      "image/png": "[encoded data removed]",
      "text/plain": [
       "<Figure size 432x288 with 1 Axes>"
      ]
     },
     "metadata": {
      "needs_background": "light"
     },
     "output_type": "display_data"
    }
   ],
   "source": [
    "plt.bar(range(24), [len(w) for w in waiting_times_per_hour])\n",
    "plt.title('Number of calls per hour of the day')\n",
    "plt.show()"
   ]
  },
  {
   "cell_type": "markdown",
   "metadata": {},
   "source": [
    "## Task 2: Plot a histogram of the durations for one hour\n",
    "Take the data for the 9th hour (so between 9am and 10am) and plot a histogram showing the distribution over waiting times between calls during that hour."
   ]
  },
  {
   "cell_type": "code",
   "execution_count": 5,
   "metadata": {},
   "outputs": [
    {
     "data": {
      "image/png": "[encoded data removed]",
      "text/plain": [
       "<Figure size 432x288 with 1 Axes>"
      ]
     },
     "metadata": {
      "needs_background": "light"
     },
     "output_type": "display_data"
    }
   ],
   "source": [
    "hour = 9\n",
    "waiting_times_hour = waiting_times_per_hour[hour]\n",
    "plt.hist(waiting_times_hour, bins=30)\n",
    "plt.title('Waiting times for hour: %i' % hour)\n",
    "plt.show()"
   ]
  },
  {
   "cell_type": "markdown",
   "metadata": {
    "collapsed": true
   },
   "source": [
    "## Task 3: Guess the distribution\n",
    "What type of distribution best represents the data in your histogram?\n",
    "\n",
    "* Identify a type of distribution. **In class you will use this distribution as your likelihood function in a Bayesian inference problem.**\n",
    "* Guess what the parameters of the distribution are. (This is just a guess for now. In class we will infer the values of the parameters.)\n",
    "* Plot the pdf of your best guess on top of your histogram, to see if they match.\n",
    "* **Important:** You have to normalize your histogram so that it will have the same vertical scale as the plot of the pdf. You can normalize a histogram by using the argument `density=True` in the `hist` function."
   ]
  },
  {
   "cell_type": "code",
   "execution_count": 6,
   "metadata": {},
   "outputs": [
    {
     "data": {
      "image/png": "[encoded data removed]",
      "text/plain": [
       "<Figure size 432x288 with 1 Axes>"
      ]
     },
     "metadata": {
      "needs_background": "light"
     },
     "output_type": "display_data"
    }
   ],
   "source": [
    "prior_alpha, prior_beta = 1, 0.25 #prior parameters\n",
    "prior = sts.gamma(a=prior_alpha, scale=1/prior_beta) #prior distribution\n",
    "x = np.linspace(0, 23)\n",
    "plt.plot(x, prior.pdf(x)) #plotting prior\n",
    "plt.ylabel('Probability Density') #label\n",
    "plt.xlabel('λ (calls per minute)') #label\n",
    "plt.title('Gamma Prior Distribution') #plot title\n",
    "plt.show()"
   ]
  },
  {
   "cell_type": "code",
   "execution_count": 7,
   "metadata": {},
   "outputs": [
    {
     "data": {
      "image/png": "[encoded data removed]",
      "text/plain": [
       "<Figure size 432x288 with 1 Axes>"
      ]
     },
     "metadata": {
      "needs_background": "light"
     },
     "output_type": "display_data"
    }
   ],
   "source": [
    "#posterior parameters\n",
    "post_alpha = prior_alpha + len(waiting_times_hour)\n",
    "post_beta = prior_beta + sum(waiting_times_hour)\n",
    "\n",
    "#gamma distribution with posterior parameters\n",
    "posterior = sts.gamma(a=post_alpha, scale=1/post_beta)\n",
    "\n",
    "#98% confidence interval\n",
    "conf98 = (posterior.ppf(0.01), posterior.ppf(0.99))\n",
    "\n",
    "#plotting posterior\n",
    "x = np.linspace(conf98[0], conf98[1], 200) #x-axis, for 98% confidence interval\n",
    "y = posterior.pdf(x) #y-axis, probability density function\n",
    "\n",
    "plt.plot(x, y)\n",
    "plt.title('Posterior Distribution')\n",
    "plt.xlabel('λ for 98% Confidence Interval') #call rate = lambda\n",
    "plt.ylabel('Probability Density')\n",
    "plt.show()"
   ]
  },
  {
   "cell_type": "code",
   "execution_count": 8,
   "metadata": {},
   "outputs": [
    {
     "data": {
      "image/png": "[encoded data removed]",
      "text/plain": [
       "<Figure size 432x288 with 1 Axes>"
      ]
     },
     "metadata": {
      "needs_background": "light"
     },
     "output_type": "display_data"
    }
   ],
   "source": [
    "lambda_ = posterior.mean() #expected value of lambda(posterior) to use as parameter\n",
    "#plotting likelihood function for lamba over histogram obtained in Task 2\n",
    "plt.hist(waiting_times_hour, bins=20, density=True)\n",
    "x = np.linspace(0, max(waiting_times_hour), 200)\n",
    "y = sts.expon.pdf(x, scale=1/lambda_) #exponential probability density function\n",
    "plt.plot(x, y)\n",
    "plt.show()"
   ]
  },
  {
   "cell_type": "markdown",
   "metadata": {},
   "source": [
    "### Assignment Continuation\n",
    "Compute a 98% posterior confidence interval over the number of calls per minute (the call\n",
    "rate λ ) for each hour of the day — so you will have 24 confidence intervals. Also, compute\n",
    "the posterior mean of λ for each hour of the day"
   ]
  },
  {
   "cell_type": "code",
   "execution_count": 9,
   "metadata": {},
   "outputs": [
    {
     "data": {
      "image/png": "[encoded data removed]",
      "text/plain": [
       "<Figure size 1080x720 with 1 Axes>"
      ]
     },
     "metadata": {
      "needs_background": "light"
     },
     "output_type": "display_data"
    }
   ],
   "source": [
    "conf = 0.98 #confidence interval\n",
    "mean_hour = np.empty(24) #to store mean per hour\n",
    "\n",
    "#to store lower & upper confidence bound, per hour\n",
    "conf_lower, conf_upper = np.empty(24), np.empty(24)\n",
    "\n",
    "for hour, waiting_times_hour in enumerate(waiting_times_per_hour):\n",
    "    post_alpha = prior_alpha + len(waiting_times_hour)\n",
    "    post_beta = prior_beta + sum(waiting_times_hour)\n",
    "    posterior = sts.gamma(a=post_alpha, scale=1/post_beta) #gamma distribution for each hour\n",
    "    mean_hour[hour] = posterior.mean() #lambda EV\n",
    "    conf_lower[hour] = posterior.ppf((1 - conf) / 2) #confidence interval upper bound\n",
    "    conf_upper[hour] = posterior.ppf((1 + conf) / 2) #confidence interval lower bound\n",
    "\n",
    "plt.figure(figsize=(15, 10))\n",
    "x = range(24) #0 to 23, to represent nth hour\n",
    "plt.errorbar(x, mean_hour,\n",
    "             yerr=[mean_hour - conf_lower, conf_upper - mean_hour], fmt='o',\n",
    "             ecolor='lightblue', elinewidth=1, capsize=5)\n",
    "plt.xticks(np.arange(0, 23, step=2))\n",
    "plt.xlabel('Hour of the day')\n",
    "plt.ylabel('Call rate (calls per minute)')\n",
    "plt.title('Mean and 98% confidence interval over call rate')\n",
    "plt.show()"
   ]
  },
  {
   "cell_type": "markdown",
   "metadata": {},
   "source": [
    "We can see the average(mean) calls per minute for each hour with 98% confidence interval showing that the 98% chances of call rate falling between the range. As the average increases, the range increases showing that during high demand(peak) times the call rate can vary more than the other times. If the call center has no budget constraints then it is recommended that the center allots agents matching the upper limit of confidence interval for each hour and if there are budget constraints, it is recommended to not go below the lower limit of confidence interval. We can take a look at the graph and see for ourselves the high & moderate peak times which require more agents and also troughs which require less agents. For eg., 11-12 hour is the highest peak where the average call rate is 16 calls/minute and the error bars plotted on that point denote the confidence interval. The points with low height of error bars denote higher certainity of call rate being near or equal to average call rate for that hour and vice versa."
   ]
  },
  {
   "cell_type": "markdown",
   "metadata": {},
   "source": [
    "# Optional\n"
   ]
  },
  {
   "cell_type": "markdown",
   "metadata": {},
   "source": [
    "\n",
    "Generate 1000 samples from a normal distribution with mean 100 and standard\n",
    "deviation 10. \n",
    "\n",
    "How many of the numbers are at least 2 standard deviations away\n",
    "from the mean? \n",
    "\n",
    "How many to you expect to be at least 2 standard deviations away\n",
    "from the mean?"
   ]
  },
  {
   "cell_type": "code",
   "execution_count": 10,
   "metadata": {},
   "outputs": [
    {
     "name": "stdout",
     "output_type": "stream",
     "text": [
      "44\n"
     ]
    }
   ],
   "source": [
    "#standard deviation, mean, number of samples\n",
    "sd, mean, samples_count = 10, 100, 1000\n",
    "samples = np.random.normal(mean,sd,samples_count) #1000 samples\n",
    "sd_2 = np.absolute(samples - mean) > 2 * sd\n",
    "print(np.sum(sd_2))"
   ]
  },
  {
   "cell_type": "markdown",
   "metadata": {},
   "source": [
    "Toss a fair coin 50 times. \n",
    "\n",
    "How many heads do you have? \n",
    "\n",
    "How many heads to you expect to have?"
   ]
  },
  {
   "cell_type": "code",
   "execution_count": 11,
   "metadata": {},
   "outputs": [
    {
     "name": "stdout",
     "output_type": "stream",
     "text": [
      "Total heads obtained in random sampling:  28\n",
      "Theoretically expected heads: total tosses*probability of head = 50*0.5 = 25\n"
     ]
    }
   ],
   "source": [
    "chance = 0.5 #as we have a fair coin, tails:head::50:50\n",
    "toss_count = 50 #number of tosses\n",
    "heads = np.random.binomial(toss_count, chance) #sampling\n",
    "print(\"Total heads obtained in random sampling: \", heads)\n",
    "print(\"Theoretically expected heads: total tosses*probability of head = 50*0.5 = 25\")"
   ]
  },
  {
   "cell_type": "markdown",
   "metadata": {},
   "source": [
    "Roll a 6-sided die 1000 times.\n",
    "\n",
    "How many 6s did you get? \n",
    "\n",
    "How many 6s do you expect to get?"
   ]
  },
  {
   "cell_type": "code",
   "execution_count": 12,
   "metadata": {},
   "outputs": [
    {
     "name": "stdout",
     "output_type": "stream",
     "text": [
      "Total sixes obtained in random sampling:  182\n",
      "Theoretically expected sixes: total rolls*probability of 6 = 166.67\n"
     ]
    }
   ],
   "source": [
    "chance = [0.167,0.167,0.167,0.167,0.167,0.167] #probability for each side of a fair die, 1/6\n",
    "roll_count = 1000 #number of times die rolled\n",
    "six = np.random.multinomial(roll_count, chance)[-1] #as 6 is the last element\n",
    "print(\"Total sixes obtained in random sampling: \", six)\n",
    "print(\"Theoretically expected sixes: total rolls*probability of 6 = 166.67\")"
   ]
  },
  {
   "cell_type": "markdown",
   "metadata": {},
   "source": [
    "How much area (probability) is to the right of 1.5 for a normal distribution with mean\n",
    "0 and standard deviation 2?"
   ]
  },
  {
   "cell_type": "code",
   "execution_count": 13,
   "metadata": {},
   "outputs": [
    {
     "data": {
      "text/plain": [
       "0.22662735237686826"
      ]
     },
     "execution_count": 13,
     "metadata": {},
     "output_type": "execute_result"
    }
   ],
   "source": [
    "#we can simply deduct the cdf which comprises the left part\n",
    "1-sts.norm.cdf(1.5,0,2) "
   ]
  }
 ],
 "metadata": {
  "kernelspec": {
   "display_name": "Python 3",
   "language": "python",
   "name": "python3"
  },
  "language_info": {
   "codemirror_mode": {
    "name": "ipython",
    "version": 3
   },
   "file_extension": ".py",
   "mimetype": "text/x-python",
   "name": "python",
   "nbconvert_exporter": "python",
   "pygments_lexer": "ipython3",
   "version": "3.7.0"
  }
 },
 "nbformat": 4,
 "nbformat_minor": 2
}
